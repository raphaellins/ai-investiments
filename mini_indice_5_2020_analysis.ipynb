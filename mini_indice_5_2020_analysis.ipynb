{
  "nbformat": 4,
  "nbformat_minor": 0,
  "metadata": {
    "colab": {
      "name": "mini_indice_5_2020_analysis.ipynb",
      "provenance": [],
      "collapsed_sections": [],
      "mount_file_id": "1i6h0n6tGZV6QvWD_pVR9QnLbqizCFP4u",
      "authorship_tag": "ABX9TyNgiTRI3Kq6PTcKZAyE80dz",
      "include_colab_link": true
    },
    "kernelspec": {
      "name": "python3",
      "display_name": "Python 3"
    }
  },
  "cells": [
    {
      "cell_type": "markdown",
      "metadata": {
        "id": "view-in-github",
        "colab_type": "text"
      },
      "source": [
        "<a href=\"https://colab.research.google.com/github/raphaellins/ai-investiments/blob/master/mini_indice_5_2020_analysis.ipynb\" target=\"_parent\"><img src=\"https://colab.research.google.com/assets/colab-badge.svg\" alt=\"Open In Colab\"/></a>"
      ]
    },
    {
      "cell_type": "code",
      "metadata": {
        "id": "bhtVsr9e1633"
      },
      "source": [
        "import pandas as pd\n",
        "import numpy as np\n",
        "import plotly.graph_objects as go\n",
        "from datetime import datetime\n",
        "import matplotlib.pyplot as plt"
      ],
      "execution_count": 1,
      "outputs": []
    },
    {
      "cell_type": "code",
      "metadata": {
        "id": "MOELqMID2scK"
      },
      "source": [
        "df = pd.read_csv('/content/drive/MyDrive/MLAZ/win_5_2020.csv', usecols=['Date', 'Open', 'High', 'Low', 'Close', 'Tick', 'Volume'])"
      ],
      "execution_count": 2,
      "outputs": []
    },
    {
      "cell_type": "code",
      "metadata": {
        "id": "rd9CK3Ya4PN2"
      },
      "source": [
        "df.head()"
      ],
      "execution_count": null,
      "outputs": []
    },
    {
      "cell_type": "code",
      "metadata": {
        "id": "AHP6UuNS7GCH"
      },
      "source": [
        "df.dtypes"
      ],
      "execution_count": null,
      "outputs": []
    },
    {
      "cell_type": "markdown",
      "metadata": {
        "id": "Sx7KDDFG4ZC9"
      },
      "source": [
        "1. Analyzing if the candle closed is High or Low and adding a column with this information"
      ]
    },
    {
      "cell_type": "code",
      "metadata": {
        "id": "_8pFm-nF4jBN"
      },
      "source": [
        "df['state'] = df.Open < df.Close"
      ],
      "execution_count": 3,
      "outputs": []
    },
    {
      "cell_type": "code",
      "metadata": {
        "id": "cJwC4EB_9NJQ"
      },
      "source": [
        "df.head()"
      ],
      "execution_count": null,
      "outputs": []
    },
    {
      "cell_type": "markdown",
      "metadata": {
        "id": "x8dzJF-T-TxK"
      },
      "source": [
        "2. Adding the info about the candle body size and shadow low and shadow high (Percentage). The entire candle is 100% including the shadows. "
      ]
    },
    {
      "cell_type": "code",
      "metadata": {
        "id": "sGVrHUqf-sgu"
      },
      "source": [
        "# candle size = High - Low\n",
        "\n",
        "\n",
        "df['candle_size'] = df.High - df.Low\n",
        "df['body_size'] = abs(df.Open - df.Close)\n",
        "df['shade_low'] = np.where(df['state'] == True, (df.Open - df.Low), (df.Close - df.Low))\n",
        "df['shade_high'] = np.where(df['state'] == True, (df.High - df.Close), (df.High - df.Open))\n"
      ],
      "execution_count": 4,
      "outputs": []
    },
    {
      "cell_type": "code",
      "metadata": {
        "colab": {
          "base_uri": "https://localhost:8080/",
          "height": 204
        },
        "id": "dm1taMUiB44Z",
        "outputId": "0952c373-6527-43a6-fcbc-d85260a1ca26"
      },
      "source": [
        "df.head()"
      ],
      "execution_count": null,
      "outputs": [
        {
          "output_type": "execute_result",
          "data": {
            "text/html": [
              "<div>\n",
              "<style scoped>\n",
              "    .dataframe tbody tr th:only-of-type {\n",
              "        vertical-align: middle;\n",
              "    }\n",
              "\n",
              "    .dataframe tbody tr th {\n",
              "        vertical-align: top;\n",
              "    }\n",
              "\n",
              "    .dataframe thead th {\n",
              "        text-align: right;\n",
              "    }\n",
              "</style>\n",
              "<table border=\"1\" class=\"dataframe\">\n",
              "  <thead>\n",
              "    <tr style=\"text-align: right;\">\n",
              "      <th></th>\n",
              "      <th>Date</th>\n",
              "      <th>Open</th>\n",
              "      <th>High</th>\n",
              "      <th>Low</th>\n",
              "      <th>Close</th>\n",
              "      <th>Tick</th>\n",
              "      <th>Volume</th>\n",
              "      <th>state</th>\n",
              "      <th>body_size</th>\n",
              "      <th>shade_low</th>\n",
              "      <th>shade_high</th>\n",
              "      <th>candle_size</th>\n",
              "    </tr>\n",
              "  </thead>\n",
              "  <tbody>\n",
              "    <tr>\n",
              "      <th>0</th>\n",
              "      <td>2020.01.02 09:00</td>\n",
              "      <td>118940</td>\n",
              "      <td>119042</td>\n",
              "      <td>118889</td>\n",
              "      <td>119016</td>\n",
              "      <td>12658</td>\n",
              "      <td>61538</td>\n",
              "      <td>True</td>\n",
              "      <td>76</td>\n",
              "      <td>51</td>\n",
              "      <td>26</td>\n",
              "      <td>153</td>\n",
              "    </tr>\n",
              "    <tr>\n",
              "      <th>1</th>\n",
              "      <td>2020.01.02 09:05</td>\n",
              "      <td>119011</td>\n",
              "      <td>119113</td>\n",
              "      <td>118915</td>\n",
              "      <td>119098</td>\n",
              "      <td>16174</td>\n",
              "      <td>72643</td>\n",
              "      <td>True</td>\n",
              "      <td>87</td>\n",
              "      <td>96</td>\n",
              "      <td>15</td>\n",
              "      <td>198</td>\n",
              "    </tr>\n",
              "    <tr>\n",
              "      <th>2</th>\n",
              "      <td>2020.01.02 09:10</td>\n",
              "      <td>119098</td>\n",
              "      <td>119123</td>\n",
              "      <td>119016</td>\n",
              "      <td>119021</td>\n",
              "      <td>12359</td>\n",
              "      <td>49335</td>\n",
              "      <td>False</td>\n",
              "      <td>77</td>\n",
              "      <td>5</td>\n",
              "      <td>25</td>\n",
              "      <td>107</td>\n",
              "    </tr>\n",
              "    <tr>\n",
              "      <th>3</th>\n",
              "      <td>2020.01.02 09:15</td>\n",
              "      <td>119021</td>\n",
              "      <td>119042</td>\n",
              "      <td>118981</td>\n",
              "      <td>118996</td>\n",
              "      <td>9840</td>\n",
              "      <td>39651</td>\n",
              "      <td>False</td>\n",
              "      <td>25</td>\n",
              "      <td>15</td>\n",
              "      <td>21</td>\n",
              "      <td>61</td>\n",
              "    </tr>\n",
              "    <tr>\n",
              "      <th>4</th>\n",
              "      <td>2020.01.02 09:20</td>\n",
              "      <td>119001</td>\n",
              "      <td>119016</td>\n",
              "      <td>118965</td>\n",
              "      <td>119001</td>\n",
              "      <td>7253</td>\n",
              "      <td>32205</td>\n",
              "      <td>False</td>\n",
              "      <td>0</td>\n",
              "      <td>36</td>\n",
              "      <td>15</td>\n",
              "      <td>51</td>\n",
              "    </tr>\n",
              "  </tbody>\n",
              "</table>\n",
              "</div>"
            ],
            "text/plain": [
              "               Date    Open    High  ...  shade_low  shade_high  candle_size\n",
              "0  2020.01.02 09:00  118940  119042  ...         51          26          153\n",
              "1  2020.01.02 09:05  119011  119113  ...         96          15          198\n",
              "2  2020.01.02 09:10  119098  119123  ...          5          25          107\n",
              "3  2020.01.02 09:15  119021  119042  ...         15          21           61\n",
              "4  2020.01.02 09:20  119001  119016  ...         36          15           51\n",
              "\n",
              "[5 rows x 12 columns]"
            ]
          },
          "metadata": {
            "tags": []
          },
          "execution_count": 10
        }
      ]
    },
    {
      "cell_type": "code",
      "metadata": {
        "id": "H-1RWNQ5FmIg"
      },
      "source": [
        "df_limit = df.iloc[0:50]\n",
        "\n",
        "fig = go.Figure(data=[go.Candlestick(x=df_limit['Date'],\n",
        "                open=df_limit['Open'],\n",
        "                high=df_limit['High'],\n",
        "                low=df_limit['Low'],\n",
        "                close=df_limit['Close'])])\n",
        "\n",
        "fig.show()"
      ],
      "execution_count": null,
      "outputs": []
    },
    {
      "cell_type": "markdown",
      "metadata": {
        "id": "9X9KowbVHU9V"
      },
      "source": [
        "3. Let`s identify the candle with some Price Action Patterns"
      ]
    },
    {
      "cell_type": "code",
      "metadata": {
        "id": "JWcj0l2gHcnN"
      },
      "source": [
        "df['doji'] = df.body_size < df.candle_size * 0.03\n",
        "df['hammer'] = np.where(df.shade_low > df.body_size * 2, np.where(df.shade_high < df.body_size * 0.1, True, False), False)\n",
        "df['inverted_hammer'] = np.where(df.shade_low < df.body_size*0.1, np.where(df.shade_high > df.body_size * 2, True, False), False) "
      ],
      "execution_count": 5,
      "outputs": []
    },
    {
      "cell_type": "code",
      "metadata": {
        "id": "vwys1eW4HsbL"
      },
      "source": [
        "for i in range(1, len(df)):\n",
        "  if (i + 1) < len(df):\n",
        "    df.loc[i, 'next_state'] = df.loc[i+1, 'state']"
      ],
      "execution_count": 6,
      "outputs": []
    },
    {
      "cell_type": "markdown",
      "metadata": {
        "id": "GogWm9X_3Goa"
      },
      "source": [
        "4. Extract the colums related with the candle size and lets try to use some processing model on that"
      ]
    },
    {
      "cell_type": "code",
      "metadata": {
        "id": "LGIMnSru37yY"
      },
      "source": [
        "dfc = df[['state', 'body_size', 'shade_low', 'shade_high', 'candle_size', 'Volume', 'next_state']]"
      ],
      "execution_count": 7,
      "outputs": []
    },
    {
      "cell_type": "code",
      "metadata": {
        "id": "c59zeUUy4ZNm"
      },
      "source": [
        "dfc.dropna(inplace=True)"
      ],
      "execution_count": null,
      "outputs": []
    },
    {
      "cell_type": "code",
      "metadata": {
        "id": "9itqwb9eoSmK"
      },
      "source": [
        "dfc['bull'] = np.where(dfc['state'] == True, 1, 0)\n",
        "dfc['next_bull'] =  np.where(dfc['next_state'] == True, 1, 0)\n",
        "\n",
        "dfc.drop(dfc.columns[[0, 6]], axis=1, inplace=True)"
      ],
      "execution_count": null,
      "outputs": []
    },
    {
      "cell_type": "code",
      "metadata": {
        "id": "AV02yOEqsX0B"
      },
      "source": [
        "dfc[\"body_size_pct\"] = round((dfc[\"body_size\"] / dfc[\"candle_size\"]) * 100, 2)\n",
        "dfc[\"shade_low_pct\"] = round((dfc[\"shade_low\"] / dfc[\"candle_size\"]) * 100, 2)\n",
        "dfc[\"shade_high_pct\"] = round((dfc[\"shade_high\"] / dfc[\"candle_size\"]) * 100, 2)"
      ],
      "execution_count": null,
      "outputs": []
    },
    {
      "cell_type": "code",
      "metadata": {
        "colab": {
          "base_uri": "https://localhost:8080/",
          "height": 419
        },
        "id": "KSJ80oNTv7xS",
        "outputId": "548abbf5-3d9f-4df4-e5ca-30cf0baadf14"
      },
      "source": [
        "dfc"
      ],
      "execution_count": 32,
      "outputs": [
        {
          "output_type": "execute_result",
          "data": {
            "text/html": [
              "<div>\n",
              "<style scoped>\n",
              "    .dataframe tbody tr th:only-of-type {\n",
              "        vertical-align: middle;\n",
              "    }\n",
              "\n",
              "    .dataframe tbody tr th {\n",
              "        vertical-align: top;\n",
              "    }\n",
              "\n",
              "    .dataframe thead th {\n",
              "        text-align: right;\n",
              "    }\n",
              "</style>\n",
              "<table border=\"1\" class=\"dataframe\">\n",
              "  <thead>\n",
              "    <tr style=\"text-align: right;\">\n",
              "      <th></th>\n",
              "      <th>body_size</th>\n",
              "      <th>shade_low</th>\n",
              "      <th>shade_high</th>\n",
              "      <th>candle_size</th>\n",
              "      <th>Volume</th>\n",
              "      <th>bull</th>\n",
              "      <th>next_bull</th>\n",
              "      <th>body_size_pct</th>\n",
              "      <th>shade_low_pct</th>\n",
              "      <th>shade_high_pct</th>\n",
              "    </tr>\n",
              "  </thead>\n",
              "  <tbody>\n",
              "    <tr>\n",
              "      <th>1</th>\n",
              "      <td>87</td>\n",
              "      <td>96</td>\n",
              "      <td>15</td>\n",
              "      <td>198</td>\n",
              "      <td>72643</td>\n",
              "      <td>1</td>\n",
              "      <td>0</td>\n",
              "      <td>43.94</td>\n",
              "      <td>48.48</td>\n",
              "      <td>7.58</td>\n",
              "    </tr>\n",
              "    <tr>\n",
              "      <th>2</th>\n",
              "      <td>77</td>\n",
              "      <td>5</td>\n",
              "      <td>25</td>\n",
              "      <td>107</td>\n",
              "      <td>49335</td>\n",
              "      <td>0</td>\n",
              "      <td>0</td>\n",
              "      <td>71.96</td>\n",
              "      <td>4.67</td>\n",
              "      <td>23.36</td>\n",
              "    </tr>\n",
              "    <tr>\n",
              "      <th>3</th>\n",
              "      <td>25</td>\n",
              "      <td>15</td>\n",
              "      <td>21</td>\n",
              "      <td>61</td>\n",
              "      <td>39651</td>\n",
              "      <td>0</td>\n",
              "      <td>0</td>\n",
              "      <td>40.98</td>\n",
              "      <td>24.59</td>\n",
              "      <td>34.43</td>\n",
              "    </tr>\n",
              "    <tr>\n",
              "      <th>4</th>\n",
              "      <td>0</td>\n",
              "      <td>36</td>\n",
              "      <td>15</td>\n",
              "      <td>51</td>\n",
              "      <td>32205</td>\n",
              "      <td>0</td>\n",
              "      <td>1</td>\n",
              "      <td>0.00</td>\n",
              "      <td>70.59</td>\n",
              "      <td>29.41</td>\n",
              "    </tr>\n",
              "    <tr>\n",
              "      <th>5</th>\n",
              "      <td>56</td>\n",
              "      <td>15</td>\n",
              "      <td>15</td>\n",
              "      <td>86</td>\n",
              "      <td>33175</td>\n",
              "      <td>1</td>\n",
              "      <td>0</td>\n",
              "      <td>65.12</td>\n",
              "      <td>17.44</td>\n",
              "      <td>17.44</td>\n",
              "    </tr>\n",
              "    <tr>\n",
              "      <th>...</th>\n",
              "      <td>...</td>\n",
              "      <td>...</td>\n",
              "      <td>...</td>\n",
              "      <td>...</td>\n",
              "      <td>...</td>\n",
              "      <td>...</td>\n",
              "      <td>...</td>\n",
              "      <td>...</td>\n",
              "      <td>...</td>\n",
              "      <td>...</td>\n",
              "    </tr>\n",
              "    <tr>\n",
              "      <th>26943</th>\n",
              "      <td>345</td>\n",
              "      <td>0</td>\n",
              "      <td>0</td>\n",
              "      <td>345</td>\n",
              "      <td>89610</td>\n",
              "      <td>0</td>\n",
              "      <td>1</td>\n",
              "      <td>100.00</td>\n",
              "      <td>0.00</td>\n",
              "      <td>0.00</td>\n",
              "    </tr>\n",
              "    <tr>\n",
              "      <th>26944</th>\n",
              "      <td>65</td>\n",
              "      <td>10</td>\n",
              "      <td>55</td>\n",
              "      <td>130</td>\n",
              "      <td>48448</td>\n",
              "      <td>1</td>\n",
              "      <td>0</td>\n",
              "      <td>50.00</td>\n",
              "      <td>7.69</td>\n",
              "      <td>42.31</td>\n",
              "    </tr>\n",
              "    <tr>\n",
              "      <th>26945</th>\n",
              "      <td>35</td>\n",
              "      <td>65</td>\n",
              "      <td>25</td>\n",
              "      <td>125</td>\n",
              "      <td>34037</td>\n",
              "      <td>0</td>\n",
              "      <td>0</td>\n",
              "      <td>28.00</td>\n",
              "      <td>52.00</td>\n",
              "      <td>20.00</td>\n",
              "    </tr>\n",
              "    <tr>\n",
              "      <th>26946</th>\n",
              "      <td>30</td>\n",
              "      <td>20</td>\n",
              "      <td>105</td>\n",
              "      <td>155</td>\n",
              "      <td>37864</td>\n",
              "      <td>0</td>\n",
              "      <td>0</td>\n",
              "      <td>19.35</td>\n",
              "      <td>12.90</td>\n",
              "      <td>67.74</td>\n",
              "    </tr>\n",
              "    <tr>\n",
              "      <th>26947</th>\n",
              "      <td>15</td>\n",
              "      <td>110</td>\n",
              "      <td>20</td>\n",
              "      <td>145</td>\n",
              "      <td>38314</td>\n",
              "      <td>0</td>\n",
              "      <td>1</td>\n",
              "      <td>10.34</td>\n",
              "      <td>75.86</td>\n",
              "      <td>13.79</td>\n",
              "    </tr>\n",
              "  </tbody>\n",
              "</table>\n",
              "<p>26947 rows × 10 columns</p>\n",
              "</div>"
            ],
            "text/plain": [
              "       body_size  shade_low  ...  shade_low_pct  shade_high_pct\n",
              "1             87         96  ...          48.48            7.58\n",
              "2             77          5  ...           4.67           23.36\n",
              "3             25         15  ...          24.59           34.43\n",
              "4              0         36  ...          70.59           29.41\n",
              "5             56         15  ...          17.44           17.44\n",
              "...          ...        ...  ...            ...             ...\n",
              "26943        345          0  ...           0.00            0.00\n",
              "26944         65         10  ...           7.69           42.31\n",
              "26945         35         65  ...          52.00           20.00\n",
              "26946         30         20  ...          12.90           67.74\n",
              "26947         15        110  ...          75.86           13.79\n",
              "\n",
              "[26947 rows x 10 columns]"
            ]
          },
          "metadata": {
            "tags": []
          },
          "execution_count": 32
        }
      ]
    }
  ]
}