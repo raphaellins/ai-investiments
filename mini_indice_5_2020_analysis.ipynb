{
  "nbformat": 4,
  "nbformat_minor": 0,
  "metadata": {
    "colab": {
      "name": "mini_indice_5_2020_analysis.ipynb",
      "provenance": [],
      "mount_file_id": "1i6h0n6tGZV6QvWD_pVR9QnLbqizCFP4u",
      "authorship_tag": "ABX9TyP89FZfvoMOl9oHyeqeaZdi",
      "include_colab_link": true
    },
    "kernelspec": {
      "name": "python3",
      "display_name": "Python 3"
    }
  },
  "cells": [
    {
      "cell_type": "markdown",
      "metadata": {
        "id": "view-in-github",
        "colab_type": "text"
      },
      "source": [
        "<a href=\"https://colab.research.google.com/github/raphaellins/ai-investiments/blob/master/mini_indice_5_2020_analysis.ipynb\" target=\"_parent\"><img src=\"https://colab.research.google.com/assets/colab-badge.svg\" alt=\"Open In Colab\"/></a>"
      ]
    },
    {
      "cell_type": "code",
      "metadata": {
        "id": "bhtVsr9e1633"
      },
      "source": [
        "import pandas as pd\n",
        "import numpy as np\n",
        "import plotly.graph_objects as go\n",
        "from datetime import datetime"
      ],
      "execution_count": 1,
      "outputs": []
    },
    {
      "cell_type": "code",
      "metadata": {
        "id": "MOELqMID2scK"
      },
      "source": [
        "df = pd.read_csv('/content/drive/MyDrive/MLAZ/win_5_2020.csv', usecols=['Date', 'Open', 'High', 'Low', 'Close', 'Tick', 'Volume'])"
      ],
      "execution_count": 2,
      "outputs": []
    },
    {
      "cell_type": "code",
      "metadata": {
        "id": "rd9CK3Ya4PN2"
      },
      "source": [
        "df.head()"
      ],
      "execution_count": null,
      "outputs": []
    },
    {
      "cell_type": "code",
      "metadata": {
        "id": "AHP6UuNS7GCH"
      },
      "source": [
        "df.dtypes"
      ],
      "execution_count": null,
      "outputs": []
    },
    {
      "cell_type": "markdown",
      "metadata": {
        "id": "Sx7KDDFG4ZC9"
      },
      "source": [
        "1. Analyzing if the candle closed is High or Low and adding a column with this information"
      ]
    },
    {
      "cell_type": "code",
      "metadata": {
        "id": "_8pFm-nF4jBN"
      },
      "source": [
        "df['state'] = df.Open < df.Close"
      ],
      "execution_count": 4,
      "outputs": []
    },
    {
      "cell_type": "code",
      "metadata": {
        "id": "cJwC4EB_9NJQ"
      },
      "source": [
        "df.head()"
      ],
      "execution_count": null,
      "outputs": []
    },
    {
      "cell_type": "markdown",
      "metadata": {
        "id": "x8dzJF-T-TxK"
      },
      "source": [
        "2. Adding the info about the candle body size and shadow low and shadow high (Percentage). The entire candle is 100% including the shadows. "
      ]
    },
    {
      "cell_type": "code",
      "metadata": {
        "id": "sGVrHUqf-sgu"
      },
      "source": [
        "# candle size = High - Low\n",
        "\n",
        "\n",
        "df['candle_size'] = df.High - df.Low\n",
        "df['body_size'] = abs(df.Open - df.Close)\n",
        "df['shade_low'] = np.where(df['state'] == True, (df.Open - df.Low), (df.Close - df.Low))\n",
        "df['shade_high'] = np.where(df['state'] == True, (df.High - df.Close), (df.High - df.Open))\n"
      ],
      "execution_count": 9,
      "outputs": []
    },
    {
      "cell_type": "code",
      "metadata": {
        "colab": {
          "base_uri": "https://localhost:8080/",
          "height": 204
        },
        "id": "dm1taMUiB44Z",
        "outputId": "0952c373-6527-43a6-fcbc-d85260a1ca26"
      },
      "source": [
        "df.head()"
      ],
      "execution_count": 10,
      "outputs": [
        {
          "output_type": "execute_result",
          "data": {
            "text/html": [
              "<div>\n",
              "<style scoped>\n",
              "    .dataframe tbody tr th:only-of-type {\n",
              "        vertical-align: middle;\n",
              "    }\n",
              "\n",
              "    .dataframe tbody tr th {\n",
              "        vertical-align: top;\n",
              "    }\n",
              "\n",
              "    .dataframe thead th {\n",
              "        text-align: right;\n",
              "    }\n",
              "</style>\n",
              "<table border=\"1\" class=\"dataframe\">\n",
              "  <thead>\n",
              "    <tr style=\"text-align: right;\">\n",
              "      <th></th>\n",
              "      <th>Date</th>\n",
              "      <th>Open</th>\n",
              "      <th>High</th>\n",
              "      <th>Low</th>\n",
              "      <th>Close</th>\n",
              "      <th>Tick</th>\n",
              "      <th>Volume</th>\n",
              "      <th>state</th>\n",
              "      <th>body_size</th>\n",
              "      <th>shade_low</th>\n",
              "      <th>shade_high</th>\n",
              "      <th>candle_size</th>\n",
              "    </tr>\n",
              "  </thead>\n",
              "  <tbody>\n",
              "    <tr>\n",
              "      <th>0</th>\n",
              "      <td>2020.01.02 09:00</td>\n",
              "      <td>118940</td>\n",
              "      <td>119042</td>\n",
              "      <td>118889</td>\n",
              "      <td>119016</td>\n",
              "      <td>12658</td>\n",
              "      <td>61538</td>\n",
              "      <td>True</td>\n",
              "      <td>76</td>\n",
              "      <td>51</td>\n",
              "      <td>26</td>\n",
              "      <td>153</td>\n",
              "    </tr>\n",
              "    <tr>\n",
              "      <th>1</th>\n",
              "      <td>2020.01.02 09:05</td>\n",
              "      <td>119011</td>\n",
              "      <td>119113</td>\n",
              "      <td>118915</td>\n",
              "      <td>119098</td>\n",
              "      <td>16174</td>\n",
              "      <td>72643</td>\n",
              "      <td>True</td>\n",
              "      <td>87</td>\n",
              "      <td>96</td>\n",
              "      <td>15</td>\n",
              "      <td>198</td>\n",
              "    </tr>\n",
              "    <tr>\n",
              "      <th>2</th>\n",
              "      <td>2020.01.02 09:10</td>\n",
              "      <td>119098</td>\n",
              "      <td>119123</td>\n",
              "      <td>119016</td>\n",
              "      <td>119021</td>\n",
              "      <td>12359</td>\n",
              "      <td>49335</td>\n",
              "      <td>False</td>\n",
              "      <td>77</td>\n",
              "      <td>5</td>\n",
              "      <td>25</td>\n",
              "      <td>107</td>\n",
              "    </tr>\n",
              "    <tr>\n",
              "      <th>3</th>\n",
              "      <td>2020.01.02 09:15</td>\n",
              "      <td>119021</td>\n",
              "      <td>119042</td>\n",
              "      <td>118981</td>\n",
              "      <td>118996</td>\n",
              "      <td>9840</td>\n",
              "      <td>39651</td>\n",
              "      <td>False</td>\n",
              "      <td>25</td>\n",
              "      <td>15</td>\n",
              "      <td>21</td>\n",
              "      <td>61</td>\n",
              "    </tr>\n",
              "    <tr>\n",
              "      <th>4</th>\n",
              "      <td>2020.01.02 09:20</td>\n",
              "      <td>119001</td>\n",
              "      <td>119016</td>\n",
              "      <td>118965</td>\n",
              "      <td>119001</td>\n",
              "      <td>7253</td>\n",
              "      <td>32205</td>\n",
              "      <td>False</td>\n",
              "      <td>0</td>\n",
              "      <td>36</td>\n",
              "      <td>15</td>\n",
              "      <td>51</td>\n",
              "    </tr>\n",
              "  </tbody>\n",
              "</table>\n",
              "</div>"
            ],
            "text/plain": [
              "               Date    Open    High  ...  shade_low  shade_high  candle_size\n",
              "0  2020.01.02 09:00  118940  119042  ...         51          26          153\n",
              "1  2020.01.02 09:05  119011  119113  ...         96          15          198\n",
              "2  2020.01.02 09:10  119098  119123  ...          5          25          107\n",
              "3  2020.01.02 09:15  119021  119042  ...         15          21           61\n",
              "4  2020.01.02 09:20  119001  119016  ...         36          15           51\n",
              "\n",
              "[5 rows x 12 columns]"
            ]
          },
          "metadata": {
            "tags": []
          },
          "execution_count": 10
        }
      ]
    },
    {
      "cell_type": "code",
      "metadata": {
        "id": "H-1RWNQ5FmIg"
      },
      "source": [
        "df_limit = df.iloc[0:50]\n",
        "\n",
        "fig = go.Figure(data=[go.Candlestick(x=df_limit['Date'],\n",
        "                open=df_limit['Open'],\n",
        "                high=df_limit['High'],\n",
        "                low=df_limit['Low'],\n",
        "                close=df_limit['Close'])])\n",
        "\n",
        "fig.show()"
      ],
      "execution_count": null,
      "outputs": []
    },
    {
      "cell_type": "markdown",
      "metadata": {
        "id": "9X9KowbVHU9V"
      },
      "source": [
        "3. Let`s identify the candle with some Price Action Patterns"
      ]
    },
    {
      "cell_type": "code",
      "metadata": {
        "colab": {
          "base_uri": "https://localhost:8080/",
          "height": 317
        },
        "id": "JWcj0l2gHcnN",
        "outputId": "ec389281-afa9-45c7-e495-df680c0c812d"
      },
      "source": [
        "df['doji'] = df.body_size < df.candle_size * 0.03\n",
        "df['hammer'] = np.where(df.shade_low > df.body_size * 2 & df.shade_high < df.body_size * 0.1, True, False) \n",
        "df['inverted_hammer'] = np.where(df.shade_low < df.body_size*0.1 & df.shade_high > df.body_size * 2, True, False)  "
      ],
      "execution_count": 15,
      "outputs": [
        {
          "output_type": "error",
          "ename": "ValueError",
          "evalue": "ignored",
          "traceback": [
            "\u001b[0;31m---------------------------------------------------------------------------\u001b[0m",
            "\u001b[0;31mValueError\u001b[0m                                Traceback (most recent call last)",
            "\u001b[0;32m<ipython-input-15-9d705588b691>\u001b[0m in \u001b[0;36m<module>\u001b[0;34m()\u001b[0m\n\u001b[1;32m      1\u001b[0m \u001b[0mdf\u001b[0m\u001b[0;34m[\u001b[0m\u001b[0;34m'doji'\u001b[0m\u001b[0;34m]\u001b[0m \u001b[0;34m=\u001b[0m \u001b[0mdf\u001b[0m\u001b[0;34m.\u001b[0m\u001b[0mbody_size\u001b[0m \u001b[0;34m<\u001b[0m \u001b[0mdf\u001b[0m\u001b[0;34m.\u001b[0m\u001b[0mcandle_size\u001b[0m \u001b[0;34m*\u001b[0m \u001b[0;36m0.03\u001b[0m\u001b[0;34m\u001b[0m\u001b[0;34m\u001b[0m\u001b[0m\n\u001b[0;32m----> 2\u001b[0;31m \u001b[0mdf\u001b[0m\u001b[0;34m[\u001b[0m\u001b[0;34m'hammer'\u001b[0m\u001b[0;34m]\u001b[0m \u001b[0;34m=\u001b[0m \u001b[0mnp\u001b[0m\u001b[0;34m.\u001b[0m\u001b[0mwhere\u001b[0m\u001b[0;34m(\u001b[0m\u001b[0mdf\u001b[0m\u001b[0;34m.\u001b[0m\u001b[0mshade_low\u001b[0m \u001b[0;34m>\u001b[0m \u001b[0mdf\u001b[0m\u001b[0;34m.\u001b[0m\u001b[0mbody_size\u001b[0m \u001b[0;34m*\u001b[0m \u001b[0;36m2\u001b[0m \u001b[0;34m&\u001b[0m \u001b[0mdf\u001b[0m\u001b[0;34m.\u001b[0m\u001b[0mshade_high\u001b[0m \u001b[0;34m<\u001b[0m \u001b[0mdf\u001b[0m\u001b[0;34m.\u001b[0m\u001b[0mbody_size\u001b[0m \u001b[0;34m*\u001b[0m \u001b[0;36m0.1\u001b[0m\u001b[0;34m,\u001b[0m \u001b[0;32mTrue\u001b[0m\u001b[0;34m,\u001b[0m \u001b[0;32mFalse\u001b[0m\u001b[0;34m)\u001b[0m\u001b[0;34m\u001b[0m\u001b[0;34m\u001b[0m\u001b[0m\n\u001b[0m\u001b[1;32m      3\u001b[0m \u001b[0mdf\u001b[0m\u001b[0;34m[\u001b[0m\u001b[0;34m'inverted_hammer'\u001b[0m\u001b[0;34m]\u001b[0m \u001b[0;34m=\u001b[0m \u001b[0mnp\u001b[0m\u001b[0;34m.\u001b[0m\u001b[0mwhere\u001b[0m\u001b[0;34m(\u001b[0m\u001b[0mdf\u001b[0m\u001b[0;34m.\u001b[0m\u001b[0mshade_low\u001b[0m \u001b[0;34m<\u001b[0m \u001b[0mdf\u001b[0m\u001b[0;34m.\u001b[0m\u001b[0mbody_size\u001b[0m\u001b[0;34m*\u001b[0m\u001b[0;36m0.1\u001b[0m \u001b[0;34m&\u001b[0m \u001b[0mdf\u001b[0m\u001b[0;34m.\u001b[0m\u001b[0mshade_high\u001b[0m \u001b[0;34m>\u001b[0m \u001b[0mdf\u001b[0m\u001b[0;34m.\u001b[0m\u001b[0mbody_size\u001b[0m \u001b[0;34m*\u001b[0m \u001b[0;36m2\u001b[0m\u001b[0;34m,\u001b[0m \u001b[0;32mTrue\u001b[0m\u001b[0;34m,\u001b[0m \u001b[0;32mFalse\u001b[0m\u001b[0;34m)\u001b[0m\u001b[0;34m\u001b[0m\u001b[0;34m\u001b[0m\u001b[0m\n",
            "\u001b[0;32m/usr/local/lib/python3.6/dist-packages/pandas/core/generic.py\u001b[0m in \u001b[0;36m__nonzero__\u001b[0;34m(self)\u001b[0m\n\u001b[1;32m   1328\u001b[0m     \u001b[0;32mdef\u001b[0m \u001b[0m__nonzero__\u001b[0m\u001b[0;34m(\u001b[0m\u001b[0mself\u001b[0m\u001b[0;34m)\u001b[0m\u001b[0;34m:\u001b[0m\u001b[0;34m\u001b[0m\u001b[0;34m\u001b[0m\u001b[0m\n\u001b[1;32m   1329\u001b[0m         raise ValueError(\n\u001b[0;32m-> 1330\u001b[0;31m             \u001b[0;34mf\"The truth value of a {type(self).__name__} is ambiguous. \"\u001b[0m\u001b[0;34m\u001b[0m\u001b[0;34m\u001b[0m\u001b[0m\n\u001b[0m\u001b[1;32m   1331\u001b[0m             \u001b[0;34m\"Use a.empty, a.bool(), a.item(), a.any() or a.all().\"\u001b[0m\u001b[0;34m\u001b[0m\u001b[0;34m\u001b[0m\u001b[0m\n\u001b[1;32m   1332\u001b[0m         )\n",
            "\u001b[0;31mValueError\u001b[0m: The truth value of a Series is ambiguous. Use a.empty, a.bool(), a.item(), a.any() or a.all()."
          ]
        }
      ]
    },
    {
      "cell_type": "code",
      "metadata": {
        "colab": {
          "base_uri": "https://localhost:8080/",
          "height": 204
        },
        "id": "vwys1eW4HsbL",
        "outputId": "6ecbe367-2471-4cf8-ccfd-c42c854a27c2"
      },
      "source": [
        "df.head()"
      ],
      "execution_count": 12,
      "outputs": [
        {
          "output_type": "execute_result",
          "data": {
            "text/html": [
              "<div>\n",
              "<style scoped>\n",
              "    .dataframe tbody tr th:only-of-type {\n",
              "        vertical-align: middle;\n",
              "    }\n",
              "\n",
              "    .dataframe tbody tr th {\n",
              "        vertical-align: top;\n",
              "    }\n",
              "\n",
              "    .dataframe thead th {\n",
              "        text-align: right;\n",
              "    }\n",
              "</style>\n",
              "<table border=\"1\" class=\"dataframe\">\n",
              "  <thead>\n",
              "    <tr style=\"text-align: right;\">\n",
              "      <th></th>\n",
              "      <th>Date</th>\n",
              "      <th>Open</th>\n",
              "      <th>High</th>\n",
              "      <th>Low</th>\n",
              "      <th>Close</th>\n",
              "      <th>Tick</th>\n",
              "      <th>Volume</th>\n",
              "      <th>state</th>\n",
              "      <th>body_size</th>\n",
              "      <th>shade_low</th>\n",
              "      <th>shade_high</th>\n",
              "      <th>candle_size</th>\n",
              "      <th>doji</th>\n",
              "    </tr>\n",
              "  </thead>\n",
              "  <tbody>\n",
              "    <tr>\n",
              "      <th>0</th>\n",
              "      <td>2020.01.02 09:00</td>\n",
              "      <td>118940</td>\n",
              "      <td>119042</td>\n",
              "      <td>118889</td>\n",
              "      <td>119016</td>\n",
              "      <td>12658</td>\n",
              "      <td>61538</td>\n",
              "      <td>True</td>\n",
              "      <td>76</td>\n",
              "      <td>51</td>\n",
              "      <td>26</td>\n",
              "      <td>153</td>\n",
              "      <td>False</td>\n",
              "    </tr>\n",
              "    <tr>\n",
              "      <th>1</th>\n",
              "      <td>2020.01.02 09:05</td>\n",
              "      <td>119011</td>\n",
              "      <td>119113</td>\n",
              "      <td>118915</td>\n",
              "      <td>119098</td>\n",
              "      <td>16174</td>\n",
              "      <td>72643</td>\n",
              "      <td>True</td>\n",
              "      <td>87</td>\n",
              "      <td>96</td>\n",
              "      <td>15</td>\n",
              "      <td>198</td>\n",
              "      <td>False</td>\n",
              "    </tr>\n",
              "    <tr>\n",
              "      <th>2</th>\n",
              "      <td>2020.01.02 09:10</td>\n",
              "      <td>119098</td>\n",
              "      <td>119123</td>\n",
              "      <td>119016</td>\n",
              "      <td>119021</td>\n",
              "      <td>12359</td>\n",
              "      <td>49335</td>\n",
              "      <td>False</td>\n",
              "      <td>77</td>\n",
              "      <td>5</td>\n",
              "      <td>25</td>\n",
              "      <td>107</td>\n",
              "      <td>False</td>\n",
              "    </tr>\n",
              "    <tr>\n",
              "      <th>3</th>\n",
              "      <td>2020.01.02 09:15</td>\n",
              "      <td>119021</td>\n",
              "      <td>119042</td>\n",
              "      <td>118981</td>\n",
              "      <td>118996</td>\n",
              "      <td>9840</td>\n",
              "      <td>39651</td>\n",
              "      <td>False</td>\n",
              "      <td>25</td>\n",
              "      <td>15</td>\n",
              "      <td>21</td>\n",
              "      <td>61</td>\n",
              "      <td>False</td>\n",
              "    </tr>\n",
              "    <tr>\n",
              "      <th>4</th>\n",
              "      <td>2020.01.02 09:20</td>\n",
              "      <td>119001</td>\n",
              "      <td>119016</td>\n",
              "      <td>118965</td>\n",
              "      <td>119001</td>\n",
              "      <td>7253</td>\n",
              "      <td>32205</td>\n",
              "      <td>False</td>\n",
              "      <td>0</td>\n",
              "      <td>36</td>\n",
              "      <td>15</td>\n",
              "      <td>51</td>\n",
              "      <td>True</td>\n",
              "    </tr>\n",
              "  </tbody>\n",
              "</table>\n",
              "</div>"
            ],
            "text/plain": [
              "               Date    Open    High  ...  shade_high  candle_size   doji\n",
              "0  2020.01.02 09:00  118940  119042  ...          26          153  False\n",
              "1  2020.01.02 09:05  119011  119113  ...          15          198  False\n",
              "2  2020.01.02 09:10  119098  119123  ...          25          107  False\n",
              "3  2020.01.02 09:15  119021  119042  ...          21           61  False\n",
              "4  2020.01.02 09:20  119001  119016  ...          15           51   True\n",
              "\n",
              "[5 rows x 13 columns]"
            ]
          },
          "metadata": {
            "tags": []
          },
          "execution_count": 12
        }
      ]
    }
  ]
}