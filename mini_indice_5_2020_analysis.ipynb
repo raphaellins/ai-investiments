{
  "nbformat": 4,
  "nbformat_minor": 0,
  "metadata": {
    "colab": {
      "name": "mini_indice_5_2020_analysis.ipynb",
      "provenance": [],
      "mount_file_id": "1i6h0n6tGZV6QvWD_pVR9QnLbqizCFP4u",
      "authorship_tag": "ABX9TyNmbEwD0Iob0jmVrxxLQByD",
      "include_colab_link": true
    },
    "kernelspec": {
      "name": "python3",
      "display_name": "Python 3"
    }
  },
  "cells": [
    {
      "cell_type": "markdown",
      "metadata": {
        "id": "view-in-github",
        "colab_type": "text"
      },
      "source": [
        "<a href=\"https://colab.research.google.com/github/raphaellins/ai-investiments/blob/master/mini_indice_5_2020_analysis.ipynb\" target=\"_parent\"><img src=\"https://colab.research.google.com/assets/colab-badge.svg\" alt=\"Open In Colab\"/></a>"
      ]
    },
    {
      "cell_type": "code",
      "metadata": {
        "id": "bhtVsr9e1633"
      },
      "source": [
        "import pandas as pd"
      ],
      "execution_count": 1,
      "outputs": []
    },
    {
      "cell_type": "code",
      "metadata": {
        "id": "MOELqMID2scK"
      },
      "source": [
        "win_data = pd.read_csv('/content/drive/MyDrive/MLAZ/win_5_2020.csv')"
      ],
      "execution_count": 4,
      "outputs": []
    },
    {
      "cell_type": "code",
      "metadata": {
        "id": "rd9CK3Ya4PN2"
      },
      "source": [
        "win_data.head()"
      ],
      "execution_count": null,
      "outputs": []
    },
    {
      "cell_type": "markdown",
      "metadata": {
        "id": "Sx7KDDFG4ZC9"
      },
      "source": [
        "1. Analyzing if the candle closed High or Low and adding a column with this information"
      ]
    },
    {
      "cell_type": "code",
      "metadata": {
        "id": "_8pFm-nF4jBN"
      },
      "source": [
        ""
      ],
      "execution_count": null,
      "outputs": []
    }
  ]
}