{
  "nbformat": 4,
  "nbformat_minor": 0,
  "metadata": {
    "colab": {
      "name": "trend_report.ipynb",
      "provenance": [],
      "authorship_tag": "ABX9TyNXhkysb2MbexEJKy/5jypT"
    },
    "kernelspec": {
      "name": "python3",
      "display_name": "Python 3"
    }
  },
  "cells": [
    {
      "cell_type": "code",
      "metadata": {
        "id": "5FL7pHAEPI9S"
      },
      "source": [
        "!pip install investpy"
      ],
      "execution_count": null,
      "outputs": []
    },
    {
      "cell_type": "code",
      "metadata": {
        "id": "nKR9RtzDPdfP"
      },
      "source": [
        "!pip install mpl_finance"
      ],
      "execution_count": null,
      "outputs": []
    },
    {
      "cell_type": "code",
      "metadata": {
        "id": "yc4u1Q0xPbgC"
      },
      "source": [
        "import investpy\n",
        "import matplotlib.pyplot as plt\n",
        "import matplotlib.dates as mdates\n",
        "from mpl_finance import candlestick_ohlc\n",
        "from mpl_finance import candlestick_ohlc"
      ],
      "execution_count": 4,
      "outputs": []
    },
    {
      "cell_type": "code",
      "metadata": {
        "id": "9ePnADl1PjQl"
      },
      "source": [
        "acao2 = 'BPAC11'"
      ],
      "execution_count": 5,
      "outputs": []
    },
    {
      "cell_type": "code",
      "metadata": {
        "id": "8ypYza5ZPq3T"
      },
      "source": [
        "df_bolsa = investpy.get_stock_historical_data(stock=acao2,\n",
        "                                          country='brazil',\n",
        "                                          from_date='01/01/2010',\n",
        "                                          to_date='02/07/2020')"
      ],
      "execution_count": 6,
      "outputs": []
    },
    {
      "cell_type": "code",
      "metadata": {
        "id": "sJQAIPXqPtQl"
      },
      "source": [
        "df_bolsa.index.names = ['Data']\n",
        "df_bolsa.columns = ['Abertura', 'Maximo', 'Minimo', 'Fechamento', 'Volume', 'Moeda']"
      ],
      "execution_count": 7,
      "outputs": []
    },
    {
      "cell_type": "code",
      "metadata": {
        "id": "kXfgEYPjPwDA"
      },
      "source": [
        "df_ = df_bolsa.copy(deep=True)\n",
        "df_['Data'] = df_.index.map(mdates.date2num)\n",
        "df_['ema21'] = df_['Fechamento'].ewm(span=21, adjust=False).mean()"
      ],
      "execution_count": 8,
      "outputs": []
    },
    {
      "cell_type": "code",
      "metadata": {
        "id": "GiM1p7tIP1oC"
      },
      "source": [
        "tendencia_alta=1\n",
        "for i in range(6):\n",
        "  if(df_.ema21[-i-1] < df_.ema21[-i-2]):\n",
        "    tendencia_alta=0"
      ],
      "execution_count": 9,
      "outputs": []
    },
    {
      "cell_type": "code",
      "metadata": {
        "id": "sGbBhr-yP2fZ"
      },
      "source": [
        "if(tendencia_alta==1):\n",
        "    print(acao2 + ' está em tendência de alta!')\n",
        "else:\n",
        "    print(acao2 + ' não está em tendência de alta!')"
      ],
      "execution_count": null,
      "outputs": []
    },
    {
      "cell_type": "code",
      "metadata": {
        "id": "-B9ULA5cP63o"
      },
      "source": [
        "ohlc = df_[['Data', 'Abertura', 'Maximo', 'Minimo', 'Fechamento']]\n",
        "\n",
        "f1, ax = plt.subplots(figsize=(10, 5))"
      ],
      "execution_count": null,
      "outputs": []
    },
    {
      "cell_type": "code",
      "metadata": {
        "id": "jifIoBisP94z"
      },
      "source": [
        "# plot the candlesticks\n",
        "candlestick_ohlc(ax, ohlc.values, width=.6, colorup='green', colordown='red')\n",
        "ax.xaxis.set_major_formatter(mdates.DateFormatter('%Y-%m'))"
      ],
      "execution_count": null,
      "outputs": []
    },
    {
      "cell_type": "code",
      "metadata": {
        "id": "tU3vlYi2P_lR"
      },
      "source": [
        "label_ = acao2.upper() + ' ma21'\n",
        "ax.plot(df_.index, df_['ema21'], color='yellow', label=label_)\n",
        "# ax.plot(df.index, df['ema100'], color = 'purple', label = 'ma100')"
      ],
      "execution_count": null,
      "outputs": []
    },
    {
      "cell_type": "code",
      "metadata": {
        "id": "GRKkYDhTQBeY"
      },
      "source": [
        "ax.grid(False)\n",
        "ax.legend()\n",
        "\n",
        "plt.title(acao2.upper() + ' : Gráfico Diário')\n",
        "\n",
        "plt.show(block=True)"
      ],
      "execution_count": null,
      "outputs": []
    }
  ]
}