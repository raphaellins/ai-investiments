{
  "nbformat": 4,
  "nbformat_minor": 0,
  "metadata": {
    "colab": {
      "name": "selic.ipynb",
      "provenance": [],
      "authorship_tag": "ABX9TyNXWUjDs3wTMNQ26N6RROlS",
      "include_colab_link": true
    },
    "kernelspec": {
      "name": "python3",
      "display_name": "Python 3"
    }
  },
  "cells": [
    {
      "cell_type": "markdown",
      "metadata": {
        "id": "view-in-github",
        "colab_type": "text"
      },
      "source": [
        "<a href=\"https://colab.research.google.com/github/raphaellins/ai-investiments/blob/master/selic.ipynb\" target=\"_parent\"><img src=\"https://colab.research.google.com/assets/colab-badge.svg\" alt=\"Open In Colab\"/></a>"
      ]
    },
    {
      "cell_type": "code",
      "metadata": {
        "id": "LXZ-koYWTesw"
      },
      "source": [
        "import urllib.request\n",
        "import os\n",
        "import pandas as pd\n",
        "import matplotlib.pyplot as plt"
      ],
      "execution_count": 10,
      "outputs": []
    },
    {
      "cell_type": "code",
      "metadata": {
        "id": "udp-jx97VqVZ"
      },
      "source": [
        "origin = 'http://api.bcb.gov.br/dados/serie/bcdata.sgs.1178/dados?formato=csv'\n",
        "data_file = 'selic_bcb_api.csv'\n",
        "\n",
        "\n",
        "if not os.path.isfile(data_file):\n",
        "  print('downloading data from bcb')\n",
        "  urllib.request.urlretrieve(origin, data_file)\n",
        "else:\n",
        "  print('Data already exists')"
      ],
      "execution_count": null,
      "outputs": []
    },
    {
      "cell_type": "code",
      "metadata": {
        "id": "2A34-gB2WJ_c"
      },
      "source": [
        "df_selic = pd.read_csv('selic_bcb_api.csv', encoding = \"utf-8\", delimiter=';', index_col=0)"
      ],
      "execution_count": 12,
      "outputs": []
    },
    {
      "cell_type": "code",
      "metadata": {
        "id": "pKCGmdUrYYmL"
      },
      "source": [
        "df_selic['valor'] = df_selic['valor'].str.replace(',', '.').astype(float)\n"
      ],
      "execution_count": null,
      "outputs": []
    },
    {
      "cell_type": "code",
      "metadata": {
        "id": "xxVmeKtyZAvc"
      },
      "source": [
        "data_inicial = '02/01/2012'\n",
        "data_final = '11/12/2020'\n",
        "\n",
        "df_selic = df_selic.loc[data_inicial:data_final]"
      ],
      "execution_count": null,
      "outputs": []
    },
    {
      "cell_type": "code",
      "metadata": {
        "colab": {
          "base_uri": "https://localhost:8080/",
          "height": 279
        },
        "id": "ZQR2OiKpXzwq",
        "outputId": "d4d67634-9134-4894-ee4a-3473b0ce8a6d"
      },
      "source": [
        "\n",
        "df_selic['valor'].plot()\n",
        "plt.legend(loc=7)\n",
        "plt.xlabel('Date')\n",
        "plt.ylabel('Tax')\n",
        "plt.show()"
      ],
      "execution_count": 21,
      "outputs": [
        {
          "output_type": "display_data",
          "data": {
            "image/png": "[encoded data removed]",
            "text/plain": [
              "<Figure size 432x288 with 1 Axes>"
            ]
          },
          "metadata": {
            "tags": [],
            "needs_background": "light"
          }
        }
      ]
    }
  ]
}